{
 "cells": [
  {
   "cell_type": "markdown",
   "id": "a8f2fd6e",
   "metadata": {},
   "source": [
    "# Compare Hail VEP output VS Docker VEP output.\n",
    "## Step 1: Convert Hail Table to flattened TSV:"
   ]
  },
  {
   "cell_type": "code",
   "execution_count": 1,
   "id": "d91de9af",
   "metadata": {},
   "outputs": [
    {
     "name": "stderr",
     "output_type": "stream",
     "text": [
      "SLF4J: No SLF4J providers were found.\n",
      "SLF4J: Defaulting to no-operation (NOP) logger implementation\n",
      "SLF4J: See https://www.slf4j.org/codes.html#noProviders for further details.\n",
      "SLF4J: Class path contains SLF4J bindings targeting slf4j-api versions 1.7.x or earlier.\n",
      "SLF4J: Ignoring binding found at [jar:file:/gpfs3/well/lindgren/users/hjo721/conda/skylake/envs/popgen/lib/python3.7/site-packages/pyspark/jars/log4j-slf4j-impl-2.17.2.jar!/org/slf4j/impl/StaticLoggerBinder.class]\n",
      "SLF4J: See https://www.slf4j.org/codes.html#ignoredBindings for an explanation.\n",
      "Setting default log level to \"WARN\".\n",
      "To adjust logging level use sc.setLogLevel(newLevel). For SparkR, use setLogLevel(newLevel).\n",
      "Running on Apache Spark version 3.3.2\n",
      "SparkUI available at http://compa023.hpc.in.bmrc.ox.ac.uk:4041\n",
      "Welcome to\n",
      "     __  __     <>__\n",
      "    / /_/ /__  __/ /\n",
      "   / __  / _ `/ / /\n",
      "  /_/ /_/\\_,_/_/_/   version 0.2.115-10932c754edb\n",
      "LOGGING: writing to /gpfs3/well/lindgren/barney/brava-ground-truth-annotations/hail-20230810-1459-0.2.115-10932c754edb.log\n",
      "2023-08-10 14:59:37.092 Hail: INFO: merging 2 files totalling 68.9M... + 1) / 1]\n",
      "2023-08-10 14:59:37.203 Hail: INFO: while writing:\n",
      "    data/vep-hail-out/genebass.hailvep.gnomad_process_csqs.chr21.tsv\n",
      "  merge time: 109.612ms\n"
     ]
    }
   ],
   "source": [
    "import hail as hl\n",
    "import pandas as pd\n",
    "hl.stop()\n",
    "hl.init()\n",
    "\n",
    "file=\"data/vep-hail-out/genebass.hailvep.gnomad_process_csqs.chr21.ht\"\n",
    "\n",
    "vep = hl.read_table(file)\n",
    "vep = vep.annotate(worst_csq_by_gene_canonical = vep.vep.worst_csq_by_gene_canonical)\n",
    "vep = vep.drop('vep')\n",
    "vep = vep.explode('worst_csq_by_gene_canonical')\n",
    "vep = vep.flatten()\n",
    "vep.export(f\"data/vep-hail-out/genebass.hailvep.gnomad_process_csqs.chr21.tsv\")"
   ]
  },
  {
   "cell_type": "markdown",
   "id": "f0627e19",
   "metadata": {},
   "source": [
    "## Step 2: Import both TSV's - Basic Comparisons:"
   ]
  },
  {
   "cell_type": "code",
   "execution_count": 14,
   "id": "33848bf2",
   "metadata": {},
   "outputs": [
    {
     "name": "stderr",
     "output_type": "stream",
     "text": [
      "/well/lindgren/users/hjo721/conda/skylake/envs/popgen/lib/python3.7/site-packages/ipykernel_launcher.py:8: FutureWarning: The default value of regex will change from True to False in a future version.\n",
      "  \n"
     ]
    },
    {
     "name": "stdout",
     "output_type": "stream",
     "text": [
      "Number of overlapping entries between Hail VEP and Docker VEP: 48867\n",
      "Number of unique entries in Hail VEP: 117024\n",
      "Number of unique entries in Docker VEP: 49068\n",
      "Entries in Hail VEP not present in Docker VEP: 68157\n",
      "Entries in Docker VEP not present in Hail VEP: 201\n"
     ]
    }
   ],
   "source": [
    "import pandas as pd\n",
    "\n",
    "# Load the files into pandas dataframes\n",
    "hail_vep = pd.read_csv('data/vep-hail-out/genebass.hailvep.gnomad_process_csqs.chr21.tsv', sep='\\t')\n",
    "docker_vep = pd.read_csv('data/docker-vep-out/genebass.chr21.worst_csq_by_gene_canonical.txt', sep=' ')\n",
    "\n",
    "# Construct the equivalent SNP_ID for hail_vep by combining locus and alleles columns\n",
    "hail_vep['SNP_ID'] = hail_vep['locus'] + ':' + hail_vep['alleles'].str.replace('[\\[\\]\" ]', '').str.replace(',', ':')\n",
    "docker_vep['SNP_ID'] = 'chr' + docker_vep['SNP_ID']\n",
    "\n",
    "# Extract relevant columns\n",
    "hail_vep_subset = hail_vep[['SNP_ID', 'worst_csq_by_gene_canonical.gene_id']]\n",
    "docker_vep_subset = docker_vep[['SNP_ID', 'GENE']]\n",
    "\n",
    "# Merge dataframes on SNP_ID/locus and GENE/gene_id to find the overlap\n",
    "overlap = pd.merge(hail_vep_subset, docker_vep_subset, left_on=['SNP_ID', 'worst_csq_by_gene_canonical.gene_id'], \n",
    "                   right_on=['SNP_ID', 'GENE'], how='inner')\n",
    "\n",
    "print(f\"Number of overlapping entries between Hail VEP and Docker VEP: {len(overlap)}\")\n",
    "print(f\"Number of unique entries in Hail VEP: {hail_vep_subset.drop_duplicates().shape[0]}\")\n",
    "print(f\"Number of unique entries in Docker VEP: {docker_vep_subset.drop_duplicates().shape[0]}\")\n",
    "\n",
    "# Check for entries in Hail VEP not present in Docker VEP\n",
    "missing_in_docker = hail_vep_subset.loc[~hail_vep_subset.set_index(['SNP_ID', 'worst_csq_by_gene_canonical.gene_id']).index.isin(overlap.set_index(['SNP_ID', 'worst_csq_by_gene_canonical.gene_id']).index)]\n",
    "print(f\"Entries in Hail VEP not present in Docker VEP: {len(missing_in_docker)}\")\n",
    "\n",
    "# Check for entries in Docker VEP not present in Hail VEP\n",
    "missing_in_hail = docker_vep_subset.loc[~docker_vep_subset.set_index(['SNP_ID', 'GENE']).index.isin(overlap.set_index(['SNP_ID', 'GENE']).index)]\n",
    "print(f\"Entries in Docker VEP not present in Hail VEP: {len(missing_in_hail)}\")\n"
   ]
  }
 ],
 "metadata": {
  "kernelspec": {
   "display_name": "popgen",
   "language": "python",
   "name": "popgen"
  },
  "language_info": {
   "codemirror_mode": {
    "name": "ipython",
    "version": 3
   },
   "file_extension": ".py",
   "mimetype": "text/x-python",
   "name": "python",
   "nbconvert_exporter": "python",
   "pygments_lexer": "ipython3",
   "version": "3.7.12"
  }
 },
 "nbformat": 4,
 "nbformat_minor": 5
}
